{
 "cells": [
  {
   "cell_type": "code",
   "execution_count": null,
   "id": "pleasant-howard",
   "metadata": {},
   "outputs": [],
   "source": [
    "#!pip install climetlab\n",
    "#!pip install climetlab_my_plugin"
   ]
  },
  {
   "cell_type": "code",
   "execution_count": null,
   "id": "arabic-sally",
   "metadata": {},
   "outputs": [],
   "source": [
    "import climetlab as cml"
   ]
  },
  {
   "cell_type": "code",
   "execution_count": null,
   "id": "affiliated-binding",
   "metadata": {},
   "outputs": [],
   "source": [
    "cmlds = cml.load_dataset(\n",
    "    \"my-plugin\",\n",
    "    year=\"2021\",\n",
    "    parameter=\"t2m\",\n",
    ")"
   ]
  },
  {
   "cell_type": "code",
   "execution_count": null,
   "id": "boring-bryan",
   "metadata": {},
   "outputs": [],
   "source": [
    "ds = cmlds.to_xarray()\n",
    "ds"
   ]
  }
 ],
 "metadata": {
  "kernelspec": {
   "display_name": "Python 3",
   "language": "python",
   "name": "python3"
  },
  "language_info": {
   "codemirror_mode": {
    "name": "ipython",
    "version": 3
   },
   "file_extension": ".py",
   "mimetype": "text/x-python",
   "name": "python",
   "nbconvert_exporter": "python",
   "pygments_lexer": "ipython3",
   "version": "3.8.6"
  }
 },
 "nbformat": 4,
 "nbformat_minor": 5
}
